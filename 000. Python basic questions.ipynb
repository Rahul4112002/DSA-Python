{
 "cells": [
  {
   "cell_type": "markdown",
   "id": "086e2876",
   "metadata": {},
   "source": [
    "# 1. Write a Python program to print \"Hello Python\""
   ]
  },
  {
   "cell_type": "code",
   "execution_count": 1,
   "id": "be6408f0",
   "metadata": {},
   "outputs": [
    {
     "name": "stdout",
     "output_type": "stream",
     "text": [
      "Hello World\n"
     ]
    }
   ],
   "source": [
    "print(\"Hello World\")"
   ]
  },
  {
   "cell_type": "markdown",
   "id": "0a771040",
   "metadata": {},
   "source": [
    "# 2. Write a Python program to do arithmetical operations addition and division"
   ]
  },
  {
   "cell_type": "code",
   "execution_count": 2,
   "id": "4aa5fa56",
   "metadata": {},
   "outputs": [
    {
     "name": "stdout",
     "output_type": "stream",
     "text": [
      "Enter the First number for addition: 5\n",
      "Enter the Second number for addition: 5\n",
      "sum: 5.0 + 5.0 = 10.0\n"
     ]
    }
   ],
   "source": [
    "#Addition\n",
    "num1 = float(input(\"Enter the First number for addition: \"))\n",
    "num2 = float(input(\"Enter the Second number for addition: \"))\n",
    "sum_result = num1 + num2\n",
    "print(f\"sum: {num1} + {num2} = {sum_result}\")"
   ]
  },
  {
   "cell_type": "code",
   "execution_count": 3,
   "id": "a90576f1",
   "metadata": {},
   "outputs": [
    {
     "name": "stdout",
     "output_type": "stream",
     "text": [
      "Enter the First number for division: 10\n",
      "Enter the Second number for division: 5\n",
      "division: 10.0 / 5.0 = 2.0\n"
     ]
    }
   ],
   "source": [
    "#Division\n",
    "num1 = float(input(\"Enter the First number for division: \"))\n",
    "num2 = float(input(\"Enter the Second number for division: \"))\n",
    "div_result = num1 / num2\n",
    "print(f\"division: {num1} / {num2} = {div_result}\")"
   ]
  },
  {
   "cell_type": "markdown",
   "id": "7c29f5ae",
   "metadata": {},
   "source": [
    "# 3. Write a Python program to find the area of a triangle."
   ]
  },
  {
   "cell_type": "code",
   "execution_count": 4,
   "id": "0c09b7fa",
   "metadata": {},
   "outputs": [
    {
     "name": "stdout",
     "output_type": "stream",
     "text": [
      "Enter the length of base of a Triangle: 5\n",
      "Enter the height of a Triangle: 3\n",
      "Area of Triangle is 7.5\n"
     ]
    }
   ],
   "source": [
    "base = float(input(\"Enter the length of base of a Triangle: \"))\n",
    "height = float(input(\"Enter the height of a Triangle: \"))\n",
    "area = 0.5*base*height\n",
    "print(f\"Area of Triangle is {area}\")"
   ]
  },
  {
   "cell_type": "markdown",
   "id": "f1ab89f8",
   "metadata": {},
   "source": [
    "# 4. Write a Python program to swap two variables."
   ]
  },
  {
   "cell_type": "code",
   "execution_count": 5,
   "id": "8d1dfda7",
   "metadata": {},
   "outputs": [
    {
     "name": "stdout",
     "output_type": "stream",
     "text": [
      "Enter the value of the first variable (a): 5\n",
      "Enter the value of the second variable (b): 10\n",
      "Original values: a = 5, b = 10\n",
      "After swapping values: a=10, b=5\n"
     ]
    }
   ],
   "source": [
    "a = input(\"Enter the value of the first variable (a): \")\n",
    "b = input(\"Enter the value of the second variable (b): \")\n",
    "print(f\"Original values: a = {a}, b = {b}\")\n",
    "temp = a\n",
    "a = b\n",
    "b = temp\n",
    "print(f\"After swapping values: a={a}, b={b}\")"
   ]
  },
  {
   "cell_type": "markdown",
   "id": "150056c1",
   "metadata": {},
   "source": [
    "# 5. Write a Python program to generate a random number."
   ]
  },
  {
   "cell_type": "code",
   "execution_count": 8,
   "id": "9c592325",
   "metadata": {},
   "outputs": [
    {
     "name": "stdout",
     "output_type": "stream",
     "text": [
      "Random number: 28\n"
     ]
    }
   ],
   "source": [
    "import random\n",
    "print(f\"Random number: {random.randint(1,100)}\")"
   ]
  },
  {
   "cell_type": "markdown",
   "id": "a58299d4",
   "metadata": {},
   "source": [
    "# 6. Write a Python program to convert kilometers to miles"
   ]
  },
  {
   "cell_type": "code",
   "execution_count": 9,
   "id": "67c59b69",
   "metadata": {},
   "outputs": [
    {
     "name": "stdout",
     "output_type": "stream",
     "text": [
      "Enter distance in kilometers: 10\n",
      "10.0 kilometers is equal to 6.21371 miles\n"
     ]
    }
   ],
   "source": [
    "kilometers = float(input(\"Enter distance in kilometers: \"))\n",
    "\n",
    "# Conversion factor: 1 kilometer = 0.621371 miles\n",
    "conversion_factor = 0.621371\n",
    "\n",
    "miles = kilometers * conversion_factor\n",
    "\n",
    "print(f\"{kilometers} kilometers is equal to {miles} miles\")"
   ]
  },
  {
   "cell_type": "markdown",
   "id": "25117855",
   "metadata": {},
   "source": [
    "# 7. Write a Python program to convert Celsius to Fahrenheit."
   ]
  },
  {
   "cell_type": "code",
   "execution_count": 2,
   "id": "cd87d595",
   "metadata": {},
   "outputs": [
    {
     "name": "stdout",
     "output_type": "stream",
     "text": [
      "Enter temperature in Celsius: 30\n",
      "30.0 degrees Celsius is equal to 86.0 degrees Fahrenheit\n"
     ]
    }
   ],
   "source": [
    "celsius = float(input(\"Enter temperature in Celsius: \"))\n",
    "\n",
    "# Conversion formula: Fahrenheit = (Celsius * 9/5) + 32\n",
    "fahrenheit = (celsius * 9/5) + 32\n",
    "\n",
    "print(f\"{celsius} degrees Celsius is equal to {fahrenheit} degrees Fahrenheit\")"
   ]
  },
  {
   "cell_type": "markdown",
   "id": "0e8b9e5b",
   "metadata": {},
   "source": [
    "# 8. Write a Python program to display calendar."
   ]
  },
  {
   "cell_type": "code",
   "execution_count": 5,
   "id": "13b07644",
   "metadata": {},
   "outputs": [
    {
     "name": "stdout",
     "output_type": "stream",
     "text": [
      "Enter year: 2002\n",
      "Enter month: 11\n",
      "   November 2002\n",
      "Mo Tu We Th Fr Sa Su\n",
      "             1  2  3\n",
      " 4  5  6  7  8  9 10\n",
      "11 12 13 14 15 16 17\n",
      "18 19 20 21 22 23 24\n",
      "25 26 27 28 29 30\n",
      "\n"
     ]
    }
   ],
   "source": [
    "import calendar\n",
    "\n",
    "year = int(input(\"Enter year: \"))\n",
    "month = int(input(\"Enter month: \"))\n",
    "\n",
    "cal = calendar.month(year, month)\n",
    "print(cal)"
   ]
  },
  {
   "cell_type": "markdown",
   "id": "50cab5ad",
   "metadata": {},
   "source": [
    "# 9. Write a Python program to solve quadratic equation."
   ]
  },
  {
   "cell_type": "markdown",
   "id": "9dfd864b",
   "metadata": {},
   "source": [
    "The standard form of a quadratic equation is:\n",
    " \n",
    "     𝑎x^2 + 𝑏𝑥+ 𝑐=0\n",
    "where,\n",
    "     a, b and c are real numbers and 𝑎 ≠ 0\n",
    "     \n",
    "The solutions of this quadratic equation is given by:\n",
    "\n",
    "     (−𝑏 ± (b^2 − 4𝑎𝑐 )^1/2 /(2𝑎))"
   ]
  },
  {
   "cell_type": "code",
   "execution_count": 6,
   "id": "e71b6e7d",
   "metadata": {},
   "outputs": [
    {
     "name": "stdout",
     "output_type": "stream",
     "text": [
      "Enter coefficient a: 1\n",
      "Enter coefficient b: 4\n",
      "Enter coefficient c: 8\n",
      "Root 1: -2.0 + 2.0i\n",
      "Root 2: -2.0 - 2.0i\n"
     ]
    }
   ],
   "source": [
    "import math\n",
    "a = float(input(\"Enter coefficient a: \"))\n",
    "b = float(input(\"Enter coefficient b: \"))\n",
    "c = float(input(\"Enter coefficient c: \"))\n",
    "\n",
    "discriminant = b**2 - 4*a*c\n",
    "\n",
    "# Check if the discriminant is positive, negative, or zero\n",
    "if discriminant > 0:\n",
    " # Two real and distinct roots\n",
    "    root1 = (-b + math.sqrt(discriminant)) / (2*a)\n",
    "    root2 = (-b - math.sqrt(discriminant)) / (2*a)\n",
    "    print(f\"Root 1: {root1}\")\n",
    "    print(f\"Root 2: {root2}\")\n",
    "elif discriminant == 0:\n",
    " # One real root (repeated)\n",
    "    root = -b / (2*a)\n",
    "    print(f\"Root: {root}\")\n",
    "else:\n",
    " # Complex roots\n",
    "    real_part = -b / (2*a)\n",
    "    imaginary_part = math.sqrt(abs(discriminant)) / (2*a)\n",
    "    print(f\"Root 1: {real_part} + {imaginary_part}i\")\n",
    "    print(f\"Root 2: {real_part} - {imaginary_part}i\")"
   ]
  },
  {
   "cell_type": "markdown",
   "id": "7f2c684f",
   "metadata": {},
   "source": [
    "# 10. Write a Python program to swap two variables without temp variable"
   ]
  },
  {
   "cell_type": "code",
   "execution_count": 7,
   "id": "6e85ce83",
   "metadata": {},
   "outputs": [
    {
     "name": "stdout",
     "output_type": "stream",
     "text": [
      "After Swapping:\n",
      "a = 10\n",
      "b = 5\n"
     ]
    }
   ],
   "source": [
    "a = 5\n",
    "b = 10\n",
    "\n",
    "a,b = b,a\n",
    " \n",
    "print(\"After Swapping:\")\n",
    "print(f\"a = {a}\")\n",
    "print(f\"b = {b}\")"
   ]
  },
  {
   "cell_type": "markdown",
   "id": "bd860d55",
   "metadata": {},
   "source": [
    "# 11. Write a Python Program to Check if a Number is Positive, Negative or Zero."
   ]
  },
  {
   "cell_type": "code",
   "execution_count": 8,
   "id": "1457dbb5",
   "metadata": {},
   "outputs": [
    {
     "name": "stdout",
     "output_type": "stream",
     "text": [
      "Enter the Number:5\n",
      "Positive number\n"
     ]
    }
   ],
   "source": [
    "num = float(input(\"Enter the Number:\"))\n",
    "\n",
    "if num>0:\n",
    "    print(\"Positive number\")\n",
    "elif num == 0:\n",
    "    print(\"Number is zero\")\n",
    "else:\n",
    "    print(\"Negative number\")"
   ]
  },
  {
   "cell_type": "markdown",
   "id": "432c1417",
   "metadata": {},
   "source": [
    "# 12. Write a Python Program to Check if a Number is Odd or Even"
   ]
  },
  {
   "cell_type": "code",
   "execution_count": 9,
   "id": "1dabc3ea",
   "metadata": {},
   "outputs": [
    {
     "name": "stdout",
     "output_type": "stream",
     "text": [
      "Enter the Number:12\n",
      "Even Number\n"
     ]
    }
   ],
   "source": [
    "num = float(input(\"Enter the Number:\"))\n",
    "\n",
    "if num%2 == 0:\n",
    "    print(\"Even Number\")\n",
    "else:\n",
    "    print(\"Odd number\")"
   ]
  },
  {
   "cell_type": "markdown",
   "id": "6568a65f",
   "metadata": {},
   "source": [
    "# 13. Write a Python Program to Check Leap Year"
   ]
  },
  {
   "cell_type": "code",
   "execution_count": 10,
   "id": "d85b3be0",
   "metadata": {},
   "outputs": [
    {
     "name": "stdout",
     "output_type": "stream",
     "text": [
      "Enter a year: 2024\n",
      "2024 is a Leap year\n"
     ]
    }
   ],
   "source": [
    "year = int(input(\"Enter a year: \"))\n",
    "\n",
    "if (year % 400 == 0) and (year % 100 == 0):\n",
    "    print(f\"{year} is a Leap Year\")\n",
    "elif (year % 4 == 0) and (year % 100 != 0):\n",
    "    print(f\"{year} is a Leap year\")\n",
    "else:\n",
    "    print(f\"{year} is not Leap year\")"
   ]
  },
  {
   "cell_type": "markdown",
   "id": "8342eb96",
   "metadata": {},
   "source": [
    "# 14. Write a Python Program to Check Prime Number."
   ]
  },
  {
   "cell_type": "code",
   "execution_count": 13,
   "id": "db8d8215",
   "metadata": {},
   "outputs": [
    {
     "name": "stdout",
     "output_type": "stream",
     "text": [
      "Enter the number:13\n",
      "13 is Prime Number\n"
     ]
    }
   ],
   "source": [
    "num = int(input(\"Enter the number:\"))\n",
    "\n",
    "flag = False\n",
    "\n",
    "if num == 1:\n",
    "    print(f\"{num} is not Prime number\")\n",
    "elif num>1:\n",
    "    for i in range(2,num):\n",
    "        if num%i == 0:\n",
    "            Flag = True\n",
    "            break\n",
    "\n",
    "if flag:\n",
    "    print(f\"{num} is not Prime Number\")\n",
    "else:\n",
    "    print(f\"{num} is Prime Number\")"
   ]
  },
  {
   "cell_type": "markdown",
   "id": "87f938a2",
   "metadata": {},
   "source": [
    "# 15. Write a Python Program to Print all Prime Numbers in an Interval of 1-10"
   ]
  },
  {
   "cell_type": "code",
   "execution_count": 7,
   "id": "679b8269",
   "metadata": {},
   "outputs": [
    {
     "name": "stdout",
     "output_type": "stream",
     "text": [
      "Prime Number between 1 - 10 are:\n",
      "2\n",
      "3\n",
      "5\n",
      "7\n"
     ]
    }
   ],
   "source": [
    "lower = 1\n",
    "upper = 10\n",
    "\n",
    "print(f\"Prime Number between {lower} - {upper} are:\")\n",
    "\n",
    "for num in range(lower,upper+1):\n",
    "    if num > 1:\n",
    "        for i in range(2, num):\n",
    "            if num%i == 0:\n",
    "                break\n",
    "        else:\n",
    "            print(num)"
   ]
  },
  {
   "cell_type": "markdown",
   "id": "a30231b3",
   "metadata": {},
   "source": [
    "# 16. Write a Python Program to Find the Factorial of a Number"
   ]
  },
  {
   "cell_type": "code",
   "execution_count": 10,
   "id": "1003e2b7",
   "metadata": {},
   "outputs": [
    {
     "name": "stdout",
     "output_type": "stream",
     "text": [
      "Enter the number: 5\n",
      "factorial of 5 is 120\n"
     ]
    }
   ],
   "source": [
    "num = int(input(\"Enter the number: \"))\n",
    "factorial = 1\n",
    "if num < 0:\n",
    "    print(\"Factorial on negative number is not exists\")\n",
    "elif num == 0:\n",
    "    print(\"Factorial of 0 is 1\")\n",
    "else:\n",
    "    for i in range(1,num+1):\n",
    "        factorial = factorial * i\n",
    "    print(f\"factorial of {num} is {factorial}\")"
   ]
  },
  {
   "cell_type": "markdown",
   "id": "f50a0904",
   "metadata": {},
   "source": [
    "# 17. Write a Python Program to Display the multiplication Table"
   ]
  },
  {
   "cell_type": "code",
   "execution_count": 11,
   "id": "45511d43",
   "metadata": {},
   "outputs": [
    {
     "name": "stdout",
     "output_type": "stream",
     "text": [
      "Display the Multiplication table of 19\n",
      "19 X 1 = 19\n",
      "19 X 2 = 38\n",
      "19 X 3 = 57\n",
      "19 X 4 = 76\n",
      "19 X 5 = 95\n",
      "19 X 6 = 114\n",
      "19 X 7 = 133\n",
      "19 X 8 = 152\n",
      "19 X 9 = 171\n",
      "19 X 10 = 190\n"
     ]
    }
   ],
   "source": [
    "num = int(input(\"Display the Multiplication table of \"))\n",
    "for i in range(1,11):\n",
    "    print(f\"{num} X {i} = {num*i}\")"
   ]
  },
  {
   "cell_type": "markdown",
   "id": "df555f83",
   "metadata": {},
   "source": [
    "# 18. Write a Python Program to Print the Fibonacci sequence"
   ]
  },
  {
   "cell_type": "code",
   "execution_count": 12,
   "id": "358b8468",
   "metadata": {},
   "outputs": [
    {
     "name": "stdout",
     "output_type": "stream",
     "text": [
      "How many terms? 5\n",
      "0,1,1,2,3,"
     ]
    }
   ],
   "source": [
    "nterms = int(input(\"How many terms? \"))\n",
    "\n",
    "a , b = 0 , 1\n",
    "\n",
    "if nterms < 0:\n",
    "    print(\"Please enter a positive integer\")\n",
    "elif nterms == 0:\n",
    "    print(a)\n",
    "else:\n",
    "    for _ in range(nterms):\n",
    "        print(a, end = \",\")\n",
    "        a , b = b , a+b"
   ]
  },
  {
   "cell_type": "code",
   "execution_count": null,
   "id": "fa672ae4",
   "metadata": {},
   "outputs": [],
   "source": []
  },
  {
   "cell_type": "code",
   "execution_count": null,
   "id": "07f66554",
   "metadata": {},
   "outputs": [],
   "source": []
  },
  {
   "cell_type": "code",
   "execution_count": null,
   "id": "b0336176",
   "metadata": {},
   "outputs": [],
   "source": []
  },
  {
   "cell_type": "code",
   "execution_count": null,
   "id": "75d4cf25",
   "metadata": {},
   "outputs": [],
   "source": []
  },
  {
   "cell_type": "code",
   "execution_count": null,
   "id": "6ecbe2f3",
   "metadata": {},
   "outputs": [],
   "source": []
  }
 ],
 "metadata": {
  "kernelspec": {
   "display_name": "Python 3 (ipykernel)",
   "language": "python",
   "name": "python3"
  },
  "language_info": {
   "codemirror_mode": {
    "name": "ipython",
    "version": 3
   },
   "file_extension": ".py",
   "mimetype": "text/x-python",
   "name": "python",
   "nbconvert_exporter": "python",
   "pygments_lexer": "ipython3",
   "version": "3.10.5"
  }
 },
 "nbformat": 4,
 "nbformat_minor": 5
}
